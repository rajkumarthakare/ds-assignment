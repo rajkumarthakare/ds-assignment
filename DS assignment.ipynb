{
 "cells": [
  {
   "cell_type": "markdown",
   "id": "a1f6a6b3-1c05-46b1-aaa1-8d9141a31942",
   "metadata": {},
   "source": [
    "# 1. Discuss string slicing and provide examples.\n",
    "\n",
    "Ans : String slicing in Python is a technique for extracting substrings or subsections from a larger string. Python's slicing syntax is both powerful and flexible, allowing for various ways to extract and manipulate string data.\n",
    "String slicing in Python provides a concise way to extract and manipulate substrings. By using the start, end, and step indices"
   ]
  },
  {
   "cell_type": "code",
   "execution_count": 18,
   "id": "0a494e7e-72f4-43be-a1a5-3d7869fd88d5",
   "metadata": {},
   "outputs": [
    {
     "name": "stdout",
     "output_type": "stream",
     "text": [
      "Rajkumar Thakare\n"
     ]
    }
   ],
   "source": [
    "text = \"My name is Rajkumar Thakare.\"\n",
    "string = text[11:27]\n",
    "print(string)  \n"
   ]
  },
  {
   "cell_type": "code",
   "execution_count": 23,
   "id": "edfea2a5-8b66-4ee0-bef4-cada76470831",
   "metadata": {},
   "outputs": [
    {
     "name": "stdout",
     "output_type": "stream",
     "text": [
      "Thakare.\n"
     ]
    }
   ],
   "source": [
    "text = \"My name is Rajkumar Thakare.\"\n",
    "string = text[20:]\n",
    "print(string)  "
   ]
  },
  {
   "cell_type": "code",
   "execution_count": 21,
   "id": "89dbdc18-6ccc-44f0-9a8a-fddb14da9bef",
   "metadata": {},
   "outputs": [
    {
     "name": "stdout",
     "output_type": "stream",
     "text": [
      "My name is Rajkumar \n"
     ]
    }
   ],
   "source": [
    "text = \"My name is Rajkumar Thakare.\"\n",
    "string = text[:20]\n",
    "print(string)  "
   ]
  },
  {
   "cell_type": "code",
   "execution_count": 32,
   "id": "56900893-0a92-4631-a92f-f861aca8d03d",
   "metadata": {},
   "outputs": [
    {
     "name": "stdout",
     "output_type": "stream",
     "text": [
      "superman\n"
     ]
    }
   ],
   "source": [
    "#Using Negative Indices\n",
    "text = \"Shaktiman is a superman.\"\n",
    "substring = text[-9:-1]\n",
    "print(substring) \n"
   ]
  },
  {
   "cell_type": "code",
   "execution_count": 14,
   "id": "b499cb40-e5df-4db9-bf4c-61c0ba1a11c8",
   "metadata": {},
   "outputs": [
    {
     "name": "stdout",
     "output_type": "stream",
     "text": [
      "I um\n"
     ]
    }
   ],
   "source": [
    "#Slicing with Step\n",
    "text = \"I am a superman\"\n",
    "string = text[::4]\n",
    "print(string)  "
   ]
  },
  {
   "cell_type": "code",
   "execution_count": 15,
   "id": "e122f153-fa46-4102-a6c4-c9637aa19e52",
   "metadata": {},
   "outputs": [
    {
     "name": "stdout",
     "output_type": "stream",
     "text": [
      "Shakt\n"
     ]
    }
   ],
   "source": [
    "text = \"Shaktiman is a superman\"\n",
    "string = text[:5]\n",
    "print(substring) \n"
   ]
  },
  {
   "cell_type": "code",
   "execution_count": 25,
   "id": "27ef251b-7990-41bc-bf9d-9b8f029e67d0",
   "metadata": {},
   "outputs": [
    {
     "name": "stdout",
     "output_type": "stream",
     "text": [
      "Satmni  uemn\n"
     ]
    }
   ],
   "source": [
    "#Slicing with Step\n",
    "\n",
    "text = \"Shaktiman is a superman\"\n",
    "substring = text[::2]\n",
    "print(substring) \n"
   ]
  },
  {
   "cell_type": "code",
   "execution_count": 24,
   "id": "c92c42df-331b-451f-b731-bf0987289f6d",
   "metadata": {},
   "outputs": [
    {
     "name": "stdout",
     "output_type": "stream",
     "text": [
      "namrepus a si namitkahS\n"
     ]
    }
   ],
   "source": [
    "#Slicing with Negative Step\n",
    "text = \"Shaktiman is a superman\"\n",
    "substring = text[::-1]\n",
    "print(substring) \n",
    "\n"
   ]
  },
  {
   "cell_type": "code",
   "execution_count": null,
   "id": "57a6cf51-480a-48d0-9b7a-8d39b6bf938d",
   "metadata": {},
   "outputs": [],
   "source": []
  },
  {
   "cell_type": "markdown",
   "id": "7cc8744b-2aea-4799-af27-3a2afb8a5d5b",
   "metadata": {},
   "source": [
    "# Explain the key features of lists in Python.\n",
    "Ans : Lists\n",
    "Description: Ordered, mutable collections of elements. Think of shopping lists or task lists. Lists can hold items of various data types (numbers, strings, even other lists!).\n",
    "Operations: You can add, remove, or modify elements within a list using indexing and slicing. Lists are versatile for storing and managing collections that might change."
   ]
  },
  {
   "cell_type": "code",
   "execution_count": 34,
   "id": "5c2ebd12-90bb-4e28-b867-daba65f817a4",
   "metadata": {},
   "outputs": [
    {
     "name": "stdout",
     "output_type": "stream",
     "text": [
      "raipur\n"
     ]
    }
   ],
   "source": [
    " # ordered collection:\n",
    "city = [\"nagpur\", \"chandrapur\", \"raipur\"]\n",
    "print(city[2]) "
   ]
  },
  {
   "cell_type": "code",
   "execution_count": 37,
   "id": "7a82cc43-153f-4bfd-85cc-c7b5f0cbbaf5",
   "metadata": {},
   "outputs": [
    {
     "name": "stdout",
     "output_type": "stream",
     "text": [
      "['nagpur', 'chandrapur', 'Hyderabad', 'Nashik']\n"
     ]
    }
   ],
   "source": [
    "# mutable collections:\n",
    "\n",
    "city = [\"nagpur\", \"chandrapur\", \"raipur\", \"Nashik\"]\n",
    "city[2] = \"Hyderabad\"\n",
    "print(city)\n"
   ]
  },
  {
   "cell_type": "code",
   "execution_count": 42,
   "id": "01a08344-a685-4e41-9521-59888cfe78f5",
   "metadata": {},
   "outputs": [
    {
     "name": "stdout",
     "output_type": "stream",
     "text": [
      "['nagpur', 'chandrapur', 'raipur', 'Nashik', 'Delhi']\n"
     ]
    }
   ],
   "source": [
    "# add or remove elements\n",
    "\n",
    "city = [\"nagpur\", \"chandrapur\", \"raipur\", \"Nashik\"]\n",
    "city.append(\"Delhi\")\n",
    "print(city)\n"
   ]
  },
  {
   "cell_type": "code",
   "execution_count": 44,
   "id": "004bd32a-8df2-4668-bb56-90fadd0be66a",
   "metadata": {},
   "outputs": [
    {
     "name": "stdout",
     "output_type": "stream",
     "text": [
      "[6, (3+2j), 50]\n"
     ]
    }
   ],
   "source": [
    "# Mixed Data \n",
    "city = [\"nagpur\", \"chandrapur\", [6, 3+2j , 50], \"raipur\", \"Nashik\"]\n",
    "print(city[2])"
   ]
  },
  {
   "cell_type": "code",
   "execution_count": 46,
   "id": "84b45a6d-2526-45aa-ad51-e0486e3c11d4",
   "metadata": {},
   "outputs": [
    {
     "name": "stdout",
     "output_type": "stream",
     "text": [
      "[[6, (3+2j), 50], 'raipur', 'Nashik']\n"
     ]
    }
   ],
   "source": [
    "# To extract a portion of the list using slicing:\n",
    "\n",
    "city = [\"nagpur\", \"chandrapur\", [6, 3+2j , 50], \"raipur\", \"Nashik\"]\n",
    "sub = city [2:5]\n",
    "print(sub)"
   ]
  },
  {
   "cell_type": "code",
   "execution_count": 53,
   "id": "6e3c833e-220c-46a2-91bb-43f190101339",
   "metadata": {},
   "outputs": [
    {
     "name": "stdout",
     "output_type": "stream",
     "text": [
      "nagpur\n",
      "chandrapur\n",
      "raipur\n",
      "Nashik\n"
     ]
    }
   ],
   "source": [
    "#  Iteration:\n",
    "\n",
    "cities = [\"nagpur\", \"chandrapur\", \"raipur\", \"Nashik\"]\n",
    "for city in cities:\n",
    "    print(city)"
   ]
  },
  {
   "cell_type": "code",
   "execution_count": 57,
   "id": "dc952421-7db7-4589-a6b8-487e9502c5eb",
   "metadata": {},
   "outputs": [
    {
     "name": "stdout",
     "output_type": "stream",
     "text": [
      "[0, 1, 4, 9, 16, 25]\n"
     ]
    }
   ],
   "source": [
    "# List Comprehensions\n",
    "\n",
    "squares = [y**2 for y in range(6)]\n",
    "print(squares)  \n"
   ]
  },
  {
   "cell_type": "code",
   "execution_count": null,
   "id": "9c6a667b-9a7a-4e07-ab13-14d258e9047b",
   "metadata": {},
   "outputs": [],
   "source": []
  },
  {
   "cell_type": "markdown",
   "id": "a9c9e64e-df58-4c31-9ed7-525ac0915e3e",
   "metadata": {},
   "source": [
    "# 3. Describe how to access, modify and delete elements in a list with examples.\n",
    "Ans : 1. Accessing Elements\n",
    "Accessing elements in a list involves using indexing. Python lists are zero-indexed, so the first element is at index 0, the second at index 1, and so on.\n",
    "\n"
   ]
  },
  {
   "cell_type": "code",
   "execution_count": 2,
   "id": "61e5359a-5cf3-46ac-bdd5-23f73608a599",
   "metadata": {},
   "outputs": [
    {
     "name": "stdout",
     "output_type": "stream",
     "text": [
      "chandrapur\n"
     ]
    }
   ],
   "source": [
    "## Access the last element using negative indexing\n",
    "city = [\"nagpur\", \"chandrapur\", [6, 3+2j , 50], \"raipur\", \"Nashik\"]\n",
    "print(city[-4])"
   ]
  },
  {
   "cell_type": "code",
   "execution_count": 3,
   "id": "c999926a-d59c-4f79-b7e0-9b286b4542d7",
   "metadata": {},
   "outputs": [
    {
     "name": "stdout",
     "output_type": "stream",
     "text": [
      "['chandrapur', [6, (3+2j), 50]]\n"
     ]
    }
   ],
   "source": [
    "## Access a slice of the list (elements from index 1 to 2)\n",
    "city = [\"nagpur\", \"chandrapur\", [6, 3+2j , 50], \"raipur\", \"Nashik\"]\n",
    "print(city[1:3])"
   ]
  },
  {
   "cell_type": "code",
   "execution_count": null,
   "id": "d4459a06-0995-4a2d-afd9-02fae5abf443",
   "metadata": {},
   "outputs": [],
   "source": []
  },
  {
   "cell_type": "markdown",
   "id": "c77f5a00-d732-4c4f-8bcc-8e4d92f90a31",
   "metadata": {},
   "source": [
    "### 2. Modifying Elements\n",
    "Ans: Modifying elements involves assigning new values to specific indices. Since lists are mutable, we can change their content directly."
   ]
  },
  {
   "cell_type": "code",
   "execution_count": 9,
   "id": "02a22c9d-9bdc-44a4-a8ab-703e691bebdc",
   "metadata": {},
   "outputs": [
    {
     "name": "stdout",
     "output_type": "stream",
     "text": [
      "[1, 2, 12, 4, 5]\n"
     ]
    }
   ],
   "source": [
    "# Define a list\n",
    "numbers = [1, 2, 3, 4, 5]\n",
    "\n",
    "# Modify the element at index 2\n",
    "numbers[2] = 12\n",
    "print(numbers)  \n",
    "\n"
   ]
  },
  {
   "cell_type": "code",
   "execution_count": 12,
   "id": "a4cc0e29-67e5-44a1-85fd-b233f53e30a1",
   "metadata": {},
   "outputs": [
    {
     "name": "stdout",
     "output_type": "stream",
     "text": [
      "[10, 15, 20]\n"
     ]
    }
   ],
   "source": [
    "# Modify a slice of the list (elements from index 1 to 3)\n",
    "numbers = [5,10,15,20,30]\n",
    "print(numbers[1:4])  \n",
    "\n"
   ]
  },
  {
   "cell_type": "code",
   "execution_count": 13,
   "id": "0f89035e-e0c1-4fa0-9b44-16303595d4c7",
   "metadata": {},
   "outputs": [
    {
     "name": "stdout",
     "output_type": "stream",
     "text": [
      "[5, 10, 15, 20, 30, 6]\n"
     ]
    }
   ],
   "source": [
    "# Append a new element at the end\n",
    "numbers = [5,10,15,20,30]\n",
    "numbers.append(6)\n",
    "print(numbers)  \n"
   ]
  },
  {
   "cell_type": "markdown",
   "id": "7dec802f-187d-4c28-b0dc-e3834be68a2d",
   "metadata": {},
   "source": [
    "## 3. Deleting element"
   ]
  },
  {
   "cell_type": "code",
   "execution_count": 14,
   "id": "6cb90892-c8d2-4023-b285-245e0d345b90",
   "metadata": {},
   "outputs": [
    {
     "name": "stdout",
     "output_type": "stream",
     "text": [
      "[5, 15, 20, 30]\n"
     ]
    }
   ],
   "source": [
    "## Delete an element by index using `del`\n",
    "numbers = [5,10,15,20,30]\n",
    "del numbers[1]\n",
    "print(numbers) "
   ]
  },
  {
   "cell_type": "code",
   "execution_count": 15,
   "id": "8be6959c-f41a-4ee4-8934-47656ea5be2d",
   "metadata": {},
   "outputs": [
    {
     "name": "stdout",
     "output_type": "stream",
     "text": [
      "30\n"
     ]
    }
   ],
   "source": [
    "##  Delete an element by index using `pop()`\n",
    "numbers = [5,10,15,20,30]\n",
    "print(numbers.pop()) "
   ]
  },
  {
   "cell_type": "code",
   "execution_count": 30,
   "id": "9d71b860-0385-49bd-84a0-11255b968fe0",
   "metadata": {},
   "outputs": [
    {
     "name": "stdout",
     "output_type": "stream",
     "text": [
      "['nagpur', [6, (3+2j), 50], 'raipur', 'Nashik']\n"
     ]
    }
   ],
   "source": [
    "## Delete an element by value using `remove()`\n",
    "\n",
    "city = [\"nagpur\", \"chandrapur\", [6, 3+2j , 50], \"raipur\", \"Nashik\"]\n",
    "city.remove(\"chandrapur\")\n",
    "print(city)"
   ]
  },
  {
   "cell_type": "code",
   "execution_count": null,
   "id": "9c113f03-789a-4396-917d-2057572947f5",
   "metadata": {},
   "outputs": [],
   "source": []
  },
  {
   "cell_type": "code",
   "execution_count": null,
   "id": "955d6718-e7be-431c-810a-3c8101965687",
   "metadata": {},
   "outputs": [],
   "source": []
  },
  {
   "cell_type": "markdown",
   "id": "70549cba-60c1-4240-baf7-472dd368e8ac",
   "metadata": {},
   "source": [
    " # 4. Compare and contrast tuples and lists with examples."
   ]
  },
  {
   "cell_type": "code",
   "execution_count": null,
   "id": "a74ff6ba-d0ef-48d5-8295-1c76c397058f",
   "metadata": {},
   "outputs": [],
   "source": [
    "\n",
    "# Lists: Mutable. You can change, add, or remove elements after the list is created.\n",
    "numbers = [5,10,15,20,30]\n",
    "(numbers[2])= 45\n",
    "print(numbers)\n",
    "\n"
   ]
  },
  {
   "cell_type": "code",
   "execution_count": 4,
   "id": "a3925c57-acd4-4982-aab7-4020c946e94f",
   "metadata": {},
   "outputs": [
    {
     "name": "stdout",
     "output_type": "stream",
     "text": [
      "[5, 10, 15, 20, 30, 8]\n"
     ]
    }
   ],
   "source": [
    "# Append a new element at the end\n",
    "numbers = [5,10,15,20,30]\n",
    "numbers.append(8)\n",
    "print(numbers)  \n"
   ]
  },
  {
   "cell_type": "code",
   "execution_count": 5,
   "id": "4c2baa7e-7849-4419-b342-69eeb5b52167",
   "metadata": {},
   "outputs": [
    {
     "name": "stdout",
     "output_type": "stream",
     "text": [
      "['nagpur', 'chandrapur', [6, (3+2j), 50], 'Nashik']\n"
     ]
    }
   ],
   "source": [
    "# Delete an element by value using `remove()`\n",
    "\n",
    "city = [\"nagpur\", \"chandrapur\", [6, 3+2j , 50], \"raipur\", \"Nashik\"]\n",
    "city.remove(\"raipur\")\n",
    "print(city)"
   ]
  },
  {
   "cell_type": "code",
   "execution_count": null,
   "id": "22a71f01-324c-49d8-a8a0-0094f69fee76",
   "metadata": {},
   "outputs": [],
   "source": []
  },
  {
   "cell_type": "code",
   "execution_count": 7,
   "id": "19bc2f62-c661-46fc-ac74-1a668a6c003e",
   "metadata": {},
   "outputs": [
    {
     "ename": "TypeError",
     "evalue": "'tuple' object does not support item assignment",
     "output_type": "error",
     "traceback": [
      "\u001b[0;31m---------------------------------------------------------------------------\u001b[0m",
      "\u001b[0;31mTypeError\u001b[0m                                 Traceback (most recent call last)",
      "Cell \u001b[0;32mIn[7], line 4\u001b[0m\n\u001b[1;32m      1\u001b[0m \u001b[38;5;66;03m# Tuples: Immutable. Once created, you cannot modify, add, or remove elements.\u001b[39;00m\n\u001b[1;32m      3\u001b[0m numbers \u001b[38;5;241m=\u001b[39m (\u001b[38;5;241m5\u001b[39m,\u001b[38;5;241m10\u001b[39m,\u001b[38;5;241m15\u001b[39m,\u001b[38;5;241m20\u001b[39m,\u001b[38;5;241m30\u001b[39m)\n\u001b[0;32m----> 4\u001b[0m \u001b[43mnumbers\u001b[49m\u001b[43m[\u001b[49m\u001b[38;5;241;43m2\u001b[39;49m\u001b[43m]\u001b[49m\u001b[38;5;241m=\u001b[39m \u001b[38;5;241m45\u001b[39m\n\u001b[1;32m      5\u001b[0m \u001b[38;5;28mprint\u001b[39m(numbers)\n",
      "\u001b[0;31mTypeError\u001b[0m: 'tuple' object does not support item assignment"
     ]
    }
   ],
   "source": [
    "# Tuples: Tuples: Defined with parentheses ().\n",
    "#Immutable. Once created, you cannot modify, add, or remove elements.\n",
    "\n",
    "numbers = (5,10,15,20,30)\n",
    "numbers[2]= 45\n",
    "print(numbers)\n"
   ]
  },
  {
   "cell_type": "code",
   "execution_count": 10,
   "id": "9e2779a9-1ab9-4646-b659-096ea34a4c13",
   "metadata": {},
   "outputs": [
    {
     "ename": "AttributeError",
     "evalue": "'tuple' object has no attribute 'remove'",
     "output_type": "error",
     "traceback": [
      "\u001b[0;31m---------------------------------------------------------------------------\u001b[0m",
      "\u001b[0;31mAttributeError\u001b[0m                            Traceback (most recent call last)",
      "Cell \u001b[0;32mIn[10], line 2\u001b[0m\n\u001b[1;32m      1\u001b[0m city \u001b[38;5;241m=\u001b[39m (\u001b[38;5;124m\"\u001b[39m\u001b[38;5;124mnagpur\u001b[39m\u001b[38;5;124m\"\u001b[39m, \u001b[38;5;124m\"\u001b[39m\u001b[38;5;124mchandrapur\u001b[39m\u001b[38;5;124m\"\u001b[39m, [\u001b[38;5;241m6\u001b[39m, \u001b[38;5;241m3\u001b[39m\u001b[38;5;241m+\u001b[39m\u001b[38;5;241m2\u001b[39mj , \u001b[38;5;241m50\u001b[39m], \u001b[38;5;124m\"\u001b[39m\u001b[38;5;124mraipur\u001b[39m\u001b[38;5;124m\"\u001b[39m, \u001b[38;5;124m\"\u001b[39m\u001b[38;5;124mNashik\u001b[39m\u001b[38;5;124m\"\u001b[39m)\n\u001b[0;32m----> 2\u001b[0m \u001b[43mcity\u001b[49m\u001b[38;5;241;43m.\u001b[39;49m\u001b[43mremove\u001b[49m(\u001b[38;5;124m\"\u001b[39m\u001b[38;5;124mraipur\u001b[39m\u001b[38;5;124m\"\u001b[39m)\n\u001b[1;32m      3\u001b[0m \u001b[38;5;28mprint\u001b[39m(city)\n",
      "\u001b[0;31mAttributeError\u001b[0m: 'tuple' object has no attribute 'remove'"
     ]
    }
   ],
   "source": [
    "city = (\"nagpur\", \"chandrapur\", [6, 3+2j , 50], \"raipur\", \"Nashik\")\n",
    "city.remove(\"raipur\")\n",
    "print(city)"
   ]
  },
  {
   "cell_type": "code",
   "execution_count": 11,
   "id": "aa6d6c4c-372d-43b6-86ae-2d17c12b03e3",
   "metadata": {},
   "outputs": [
    {
     "ename": "AttributeError",
     "evalue": "'tuple' object has no attribute 'append'",
     "output_type": "error",
     "traceback": [
      "\u001b[0;31m---------------------------------------------------------------------------\u001b[0m",
      "\u001b[0;31mAttributeError\u001b[0m                            Traceback (most recent call last)",
      "Cell \u001b[0;32mIn[11], line 2\u001b[0m\n\u001b[1;32m      1\u001b[0m numbers \u001b[38;5;241m=\u001b[39m (\u001b[38;5;241m5\u001b[39m,\u001b[38;5;241m10\u001b[39m,\u001b[38;5;241m15\u001b[39m,\u001b[38;5;241m20\u001b[39m,\u001b[38;5;241m30\u001b[39m)\n\u001b[0;32m----> 2\u001b[0m \u001b[43mnumbers\u001b[49m\u001b[38;5;241;43m.\u001b[39;49m\u001b[43mappend\u001b[49m(\u001b[38;5;241m8\u001b[39m)\n\u001b[1;32m      3\u001b[0m \u001b[38;5;28mprint\u001b[39m(numbers)  \n",
      "\u001b[0;31mAttributeError\u001b[0m: 'tuple' object has no attribute 'append'"
     ]
    }
   ],
   "source": [
    "numbers = (5,10,15,20,30)\n",
    "numbers.append(8)\n",
    "print(numbers)  "
   ]
  },
  {
   "cell_type": "markdown",
   "id": "f4c31fbd-201b-4a7c-8de0-b2426fdab694",
   "metadata": {},
   "source": [
    " # Summary\n",
    "Mutability: Lists are mutable; tuples are immutable.\n",
    "Syntax: Lists use []; tuples use ().\n",
    "Performance: Tuples are generally faster and more memory-efficient.\n",
    "Use Cases: Lists for mutable collections; tuples for immutable, fixed collections.\n",
    "Methods: Lists have a wider range of methods for modification; tuples have limited methods due to immutability."
   ]
  },
  {
   "cell_type": "code",
   "execution_count": null,
   "id": "8e6fca37-2d14-4ab2-a2f8-7929ee43ddc9",
   "metadata": {},
   "outputs": [],
   "source": []
  },
  {
   "cell_type": "markdown",
   "id": "f88903eb-b68f-4612-ad5a-6c5ede0b72d7",
   "metadata": {},
   "source": [
    "# 5. Describe the key features of sets and provide examples of their use.\n",
    "\n",
    "ans : Sets in Python are a powerful and versatile data structure used for storing collections of unique items. They are built-in data types that offer several key features and operations."
   ]
  },
  {
   "cell_type": "code",
   "execution_count": null,
   "id": "0871bddd-6a03-4ab6-89b3-55d0d8c6153b",
   "metadata": {},
   "outputs": [],
   "source": [
    "# Key Features of Sets\n",
    "Unique Elements\n",
    "\n",
    "Sets automatically ensure that all elements are unique. Duplicate elements are not allowed and are discarded.\n"
   ]
  },
  {
   "cell_type": "code",
   "execution_count": 16,
   "id": "36a73657-ca9c-4e15-bbce-79d798e226fb",
   "metadata": {},
   "outputs": [
    {
     "name": "stdout",
     "output_type": "stream",
     "text": [
      "{2, 20, 12, 30, 15}\n"
     ]
    }
   ],
   "source": [
    "# Define a set with duplicate elements\n",
    "set_1 = {2,15,30,15,12,12,20,30}\n",
    "print(set_1) \n"
   ]
  },
  {
   "cell_type": "code",
   "execution_count": 19,
   "id": "8b944cb0-13a4-4fdf-b8f2-01d8ed9633ed",
   "metadata": {},
   "outputs": [
    {
     "name": "stdout",
     "output_type": "stream",
     "text": [
      "{2, 20, 12, 30, 15}\n"
     ]
    }
   ],
   "source": [
    "# Unordered Collection\n",
    "\n",
    "'''Sets are unordered collections, which means that the elements do not have a specific order and cannot be accessed by an index.'''\n",
    "set_1 = {2,15,30,15,12,12,20,30}\n",
    "print(set_1) "
   ]
  },
  {
   "cell_type": "code",
   "execution_count": null,
   "id": "e3ab7598-299b-4b20-8910-3f05ba6ebf7e",
   "metadata": {},
   "outputs": [],
   "source": [
    "# Mutable\n",
    "\n",
    "Sets are mutable, meaning you can add or remove elements after the set has been created."
   ]
  },
  {
   "cell_type": "code",
   "execution_count": 21,
   "id": "bbc975ec-f4e0-4c05-9a08-303475507021",
   "metadata": {},
   "outputs": [
    {
     "name": "stdout",
     "output_type": "stream",
     "text": [
      "{2, 20, 4, 12, 30, 15}\n"
     ]
    }
   ],
   "source": [
    "set_1 = {2,15,30,15,12,12,20,30}\n",
    "set_1.add(4)\n",
    "print(set_1) "
   ]
  },
  {
   "cell_type": "code",
   "execution_count": 22,
   "id": "c381cb5d-9ddc-47b9-8861-bcbafab9dbd5",
   "metadata": {},
   "outputs": [
    {
     "name": "stdout",
     "output_type": "stream",
     "text": [
      "{2, 20, 12, 15}\n"
     ]
    }
   ],
   "source": [
    "set_1 = {2,15,30,15,12,12,20,30}\n",
    "set_1.remove(30)\n",
    "print(set_1) "
   ]
  },
  {
   "cell_type": "code",
   "execution_count": null,
   "id": "b986f268-ba58-4677-b7c3-915e0d627a22",
   "metadata": {},
   "outputs": [],
   "source": [
    "# Set Operations\n",
    "\n",
    "Sets support a range of mathematical set operations such as union, intersection, difference, and symmetric difference."
   ]
  },
  {
   "cell_type": "code",
   "execution_count": 23,
   "id": "91c4d0ca-4974-47fa-be61-a47d17d1b7c5",
   "metadata": {},
   "outputs": [
    {
     "name": "stdout",
     "output_type": "stream",
     "text": [
      "{2, 40, 12, 15, 80, 20, 60, 30}\n"
     ]
    }
   ],
   "source": [
    "# Union (elements in either set)\n",
    "set_1 = {2,15,30,15,12,12,20,30}\n",
    "set_2 = {12,15,20,30,40,60,80}\n",
    "print(set_1 | set_2)"
   ]
  },
  {
   "cell_type": "code",
   "execution_count": 24,
   "id": "37de58da-82be-4d68-88c9-d7bdaecc1b77",
   "metadata": {},
   "outputs": [
    {
     "name": "stdout",
     "output_type": "stream",
     "text": [
      "{20, 12, 30, 15}\n"
     ]
    }
   ],
   "source": [
    "# Intersection (elements in both sets)\n",
    "print(set_1 & set_2)"
   ]
  },
  {
   "cell_type": "code",
   "execution_count": 25,
   "id": "6d5d91a2-e012-4970-b7fe-c74712f5c460",
   "metadata": {},
   "outputs": [
    {
     "name": "stdout",
     "output_type": "stream",
     "text": [
      "{2}\n"
     ]
    }
   ],
   "source": [
    "# Difference (elements in set_a but not in set_b)\n",
    "print(set_1 - set_2) "
   ]
  },
  {
   "cell_type": "code",
   "execution_count": 26,
   "id": "fde55e88-dbc4-4778-b124-25f0cc68c75f",
   "metadata": {},
   "outputs": [
    {
     "name": "stdout",
     "output_type": "stream",
     "text": [
      "{80, 2, 40, 60}\n"
     ]
    }
   ],
   "source": [
    "# Symmetric Difference (elements in either set but not in both)\n",
    "print(set_1 ^ set_2) "
   ]
  },
  {
   "cell_type": "raw",
   "id": "4408ebcd-58e2-4d1a-9dde-71375270843f",
   "metadata": {},
   "source": [
    "#Set Comprehensions\n",
    "\n",
    "Similar to list comprehensions, you can create sets using set comprehensions to generate sets based on some condition or transformation."
   ]
  },
  {
   "cell_type": "code",
   "execution_count": 27,
   "id": "5a35d10a-f632-46e9-bb86-fffb83f1ef37",
   "metadata": {},
   "outputs": [
    {
     "name": "stdout",
     "output_type": "stream",
     "text": [
      "{0, 1, 4, 9}\n"
     ]
    }
   ],
   "source": [
    "squares = {x**2 for x in range(4)}\n",
    "print(squares)  \n"
   ]
  },
  {
   "cell_type": "raw",
   "id": "50e0511e-e7f9-41df-a5ce-11a437ce091f",
   "metadata": {},
   "source": [
    "# Immutable Sets (frozenset)\n",
    "\n",
    "Python provides an immutable version of a set called frozenset. Frozensets are hashable and can be used as dictionary keys or set elements, but they cannot be modified after creation."
   ]
  },
  {
   "cell_type": "code",
   "execution_count": 28,
   "id": "26ecf2fb-1db2-4e33-8d42-2baa97740bae",
   "metadata": {},
   "outputs": [
    {
     "name": "stdout",
     "output_type": "stream",
     "text": [
      "frozenset({2, 12, 15, 20, 30})\n"
     ]
    }
   ],
   "source": [
    "# Create a frozenset\n",
    "frozen_set = frozenset([2,15,30,15,12,12,20,30])\n",
    "print(frozen_set)  "
   ]
  },
  {
   "cell_type": "code",
   "execution_count": null,
   "id": "b5545419-ff3b-414b-9343-070e8bb9c720",
   "metadata": {},
   "outputs": [],
   "source": []
  },
  {
   "cell_type": "markdown",
   "id": "91eaf5e8-fea4-4064-997b-9e023cbff5ba",
   "metadata": {},
   "source": [
    "# 6. Discuss the use cases of tuples and sets in Python programming.\n",
    "\n",
    "ans : Tuples and sets in Python serve distinct purposes and are used in different scenarios due to their unique properties. "
   ]
  },
  {
   "cell_type": "raw",
   "id": "d4968073-c9ab-4f4a-b5b2-498a610402ec",
   "metadata": {},
   "source": [
    "# Use Cases of Tuples\n",
    "Immutable Data Collection\n",
    "\n",
    "Tuples are ideal for grouping data that should not be modified. This immutability guarantees that the data remains constant and protects it from accidental changes.\n",
    "\n"
   ]
  },
  {
   "cell_type": "code",
   "execution_count": null,
   "id": "2c2c8c46-27d1-4e18-9bc4-63ed9f660d65",
   "metadata": {},
   "outputs": [
    {
     "name": "stdout",
     "output_type": "stream",
     "text": [
      "(56.66, -74.006)\n"
     ]
    }
   ],
   "source": [
    "# Example: Representing a coordinate point where the values should not change.\n",
    "coordinate = (56.66, -74.0060) \n",
    "print(coordinate)"
   ]
  },
  {
   "cell_type": "raw",
   "id": "c33237dd-e3f2-49df-924e-4868aea0c3df",
   "metadata": {},
   "source": [
    "# Unpacking Data\n",
    "\n",
    "Tuples are often used for unpacking data in assignments. This is useful for simultaneously extracting values from an iterable."
   ]
  },
  {
   "cell_type": "code",
   "execution_count": 37,
   "id": "ad4faeaa-45c3-405a-b99f-6d78a75e22a9",
   "metadata": {},
   "outputs": [
    {
     "name": "stdout",
     "output_type": "stream",
     "text": [
      "10 20 30\n"
     ]
    }
   ],
   "source": [
    "x, y, z = (10, 20, 30)\n",
    "print(x, y, z)  \n"
   ]
  },
  {
   "cell_type": "code",
   "execution_count": null,
   "id": "69afb95b-e76b-47ad-8ea6-8d547c32b85f",
   "metadata": {},
   "outputs": [],
   "source": []
  },
  {
   "cell_type": "code",
   "execution_count": null,
   "id": "08c205f5-e1be-4054-8b7e-24cdfb795ef0",
   "metadata": {},
   "outputs": [],
   "source": [
    "Use Cases of Sets\n",
    "Removing Duplicates\n",
    "\n",
    "Sets are commonly used to remove duplicate elements from a collection. Since sets only store unique items, any duplicates are automatically discarded.\n"
   ]
  },
  {
   "cell_type": "code",
   "execution_count": 33,
   "id": "31324c85-c52e-43b7-b0a8-77ba2259e667",
   "metadata": {},
   "outputs": [
    {
     "name": "stdout",
     "output_type": "stream",
     "text": [
      "{4, 6, 7, 8, 9, 10}\n"
     ]
    }
   ],
   "source": [
    "#Example: Removing duplicates from a list.\n",
    "items = [4, 6, 7, 4, 8 ,4 ,8, 9 ,10 ]\n",
    "unique_items = set(items)\n",
    "print(unique_items)  \n"
   ]
  },
  {
   "cell_type": "raw",
   "id": "ed44e2a2-de4d-47d4-8541-5c26da3bf336",
   "metadata": {},
   "source": [
    "# Membership Testing\n",
    "\n",
    "Sets are optimized for membership testing, making them ideal for scenarios where you need to frequently check whether an item is present in a collection."
   ]
  },
  {
   "cell_type": "raw",
   "id": "3c5a8f7a-b4be-49a8-8f2d-fecfaa1c9aef",
   "metadata": {},
   "source": [
    "user = {\"raj\", \"mohan\", \"parag\", \"shubham\", \"rakesh\"}\n",
    "print(\"raj\" in user)"
   ]
  },
  {
   "cell_type": "code",
   "execution_count": 35,
   "id": "76d4cd32-36f4-4dc0-8bda-ca6288eab32b",
   "metadata": {},
   "outputs": [
    {
     "name": "stdout",
     "output_type": "stream",
     "text": [
      "False\n"
     ]
    }
   ],
   "source": [
    "user = {\"raj\", \"mohan\", \"parag\", \"shubham\", \"rakesh\"}\n",
    "print(\"shyam\" in user)"
   ]
  },
  {
   "cell_type": "code",
   "execution_count": null,
   "id": "b031b235-cbcf-4cdf-92ec-2f22c510d72f",
   "metadata": {},
   "outputs": [],
   "source": []
  },
  {
   "cell_type": "raw",
   "id": "e25f4b6d-b7ec-4713-83e3-c80fa6d90fe7",
   "metadata": {},
   "source": [
    "# Summary\n",
    "- Tuples are best for immutable, fixed collections of items, returning multiple values from functions, using as dictionary keys, and data integrity.\n",
    "- Sets are ideal for collections of unique items, membership testing, removing duplicates, performing set operations, and efficient data structure usage."
   ]
  },
  {
   "cell_type": "code",
   "execution_count": null,
   "id": "be901f07-79a3-4c1a-bf5c-4b11d6f5a6a8",
   "metadata": {},
   "outputs": [],
   "source": []
  },
  {
   "cell_type": "markdown",
   "id": "1ea69ada-587f-4a2b-9680-ec3df8685918",
   "metadata": {},
   "source": [
    "# 7 . Describe how to add,modify and delete items in a dictionary with examples.\n",
    "Ans : \n",
    "Dictionaries in Python are versatile data structures that store key-value pairs. They provide efficient access to data using keys, and they allow for dynamic modification of entries. "
   ]
  },
  {
   "cell_type": "code",
   "execution_count": 1,
   "id": "95a2a37e-b974-491e-9abb-d8fcd0226c96",
   "metadata": {},
   "outputs": [
    {
     "name": "stdout",
     "output_type": "stream",
     "text": [
      "{'name': 'raj', 'age': 28, 'hobby': 'cricket', 'state': 'maharashtra'}\n"
     ]
    }
   ],
   "source": [
    "#Adding Items\n",
    "diction = {}\n",
    "diction[\"name\"] = \"raj\"\n",
    "diction[\"age\"] = 28\n",
    "diction[\"hobby\"] = \"cricket\"\n",
    "diction[\"state\"] = \"maharashtra\"\n",
    "print(diction)"
   ]
  },
  {
   "cell_type": "code",
   "execution_count": 2,
   "id": "3aa6fe76-42df-4a55-b281-d15355ba3186",
   "metadata": {},
   "outputs": [
    {
     "name": "stdout",
     "output_type": "stream",
     "text": [
      "{'name': 'raj', 'age': 28, 'hobby': 'chess', 'state': 'maharashtra'}\n"
     ]
    }
   ],
   "source": [
    "# Modify an existing item.\n",
    "diction = {'name': 'raj', 'age': 28, 'hobby': 'cricket', 'state': 'maharashtra'}\n",
    "diction[\"hobby\"] = \"chess\"\n",
    "print(diction)"
   ]
  },
  {
   "cell_type": "code",
   "execution_count": 4,
   "id": "6ab93230-c3ac-42c6-bec2-ceef4260c2ae",
   "metadata": {},
   "outputs": [
    {
     "name": "stdout",
     "output_type": "stream",
     "text": [
      "{'name': 'raj', 'age': 28, 'hobby': 'cricket', 'district': 'chandrapur'}\n"
     ]
    }
   ],
   "source": [
    "# Delete an item using the `del` statement\n",
    "diction = {'name': 'raj', 'age': 28, 'hobby': 'cricket', 'district' : 'chandrapur', 'state': 'maharashtra'}\n",
    "del diction[\"state\"]\n",
    "print(diction)"
   ]
  },
  {
   "cell_type": "code",
   "execution_count": 7,
   "id": "68d057a4-e93d-4b61-8829-2d2f4980ccda",
   "metadata": {},
   "outputs": [
    {
     "name": "stdout",
     "output_type": "stream",
     "text": [
      "{'name': 'raj', 'age': 28, 'hobby': 'cricket', 'state': 'maharashtra'}\n"
     ]
    }
   ],
   "source": [
    "# Delete an item using the `pop()` method\n",
    "diction = {'name': 'raj', 'age': 28, 'hobby': 'cricket', 'district' : 'chandrapur', 'state': 'maharashtra'}\n",
    "\n",
    "district = diction.pop('district')\n",
    "print(diction)\n"
   ]
  },
  {
   "cell_type": "raw",
   "id": "7b431c0a-f33f-443b-9394-fafda47dcaaf",
   "metadata": {},
   "source": [
    "Summary\n",
    "Adding Items: Use assignment (dict[key] = value) to add new key-value pairs.\n",
    "Modifying Items: Assign a new value to an existing key, or use assignment to add a new key-value pair if the key does not exist.\n",
    "Deleting Items: Use del dict[key], dict.pop(key), dict.popitem(), or dict.clear() to remove items from the dictionary."
   ]
  },
  {
   "cell_type": "code",
   "execution_count": null,
   "id": "fa2638de-e696-432a-b34d-c3413014cc23",
   "metadata": {},
   "outputs": [],
   "source": []
  },
  {
   "cell_type": "markdown",
   "id": "2ece2dbb-ebc5-4a22-80d0-e1e24f790b63",
   "metadata": {},
   "source": [
    "# 8.  Discuss the importance of dictionary keys being immutable and provide examples.\n",
    "Ans : In Python, dictionary keys must be immutable. This requirement is crucial for maintaining the integrity and performance of dictionaries."
   ]
  },
  {
   "cell_type": "raw",
   "id": "460ed31c-914e-41c4-af6e-13335839db1a",
   "metadata": {},
   "source": [
    "Importance of Immutable Keys\n",
    "Hashability\n",
    "\n",
    "Hash Function: Dictionaries in Python are implemented using hash tables. This data structure relies on hash functions to quickly access values based on their keys. A key must be immutable so its hash value remains constant over its lifetime.\n",
    "Consistency: If a key were mutable, its hash value could change if the key's content changes, leading to inconsistencies in accessing values. Immutable keys guarantee that the hash value remains constant.\n",
    "\n",
    "Immutable Keys\n",
    "Immutable objects include types like integers, floats, strings, and tuples (if the tuple contains only immutable elements)."
   ]
  },
  {
   "cell_type": "code",
   "execution_count": 1,
   "id": "8114fec9-c583-498f-ab9e-60a56f05ecef",
   "metadata": {},
   "outputs": [
    {
     "name": "stdout",
     "output_type": "stream",
     "text": [
      "orange\n"
     ]
    }
   ],
   "source": [
    "# Integers\n",
    "group = {1: \"orange\", 2: \"guava\"}\n",
    "print(group[1])  \n"
   ]
  },
  {
   "cell_type": "code",
   "execution_count": 2,
   "id": "cc5a0d46-4c67-498b-804d-bafa51ee737e",
   "metadata": {},
   "outputs": [
    {
     "name": "stdout",
     "output_type": "stream",
     "text": [
      "raj\n"
     ]
    }
   ],
   "source": [
    "# strings\n",
    "person = {\"name\": \"raj\", \"age\": 28}\n",
    "print(person[\"name\"]) \n"
   ]
  },
  {
   "cell_type": "code",
   "execution_count": 4,
   "id": "622efc36-e139-4118-942c-7a38eaed6f02",
   "metadata": {},
   "outputs": [
    {
     "name": "stdout",
     "output_type": "stream",
     "text": [
      "point1\n"
     ]
    }
   ],
   "source": [
    "# tuples\n",
    "direction = {(\"x\", 3): \"point1\", (\"y\", 6): \"point2\"}\n",
    "print(direction[(\"x\", 3)]) \n"
   ]
  },
  {
   "cell_type": "code",
   "execution_count": null,
   "id": "d91c4fff-b562-424a-bd01-388792bc2046",
   "metadata": {},
   "outputs": [],
   "source": []
  },
  {
   "cell_type": "raw",
   "id": "832b6891-7709-45cc-baa2-ca5d9eae37aa",
   "metadata": {},
   "source": [
    "#Immutability ensures stability: Immutable keys guarantee that the hash value of the key remains constant, which is essential for the dictionary's internal structure and efficient lookups."
   ]
  }
 ],
 "metadata": {
  "kernelspec": {
   "display_name": "Python 3 (ipykernel)",
   "language": "python",
   "name": "python3"
  },
  "language_info": {
   "codemirror_mode": {
    "name": "ipython",
    "version": 3
   },
   "file_extension": ".py",
   "mimetype": "text/x-python",
   "name": "python",
   "nbconvert_exporter": "python",
   "pygments_lexer": "ipython3",
   "version": "3.10.8"
  }
 },
 "nbformat": 4,
 "nbformat_minor": 5
}
